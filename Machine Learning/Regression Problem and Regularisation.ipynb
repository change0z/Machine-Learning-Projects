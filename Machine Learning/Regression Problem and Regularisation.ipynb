{
  "cells": [
    {
      "attachments": {},
      "cell_type": "markdown",
      "metadata": {
        "id": "8NRMjCyyZdMy"
      },
      "source": [
        "\n",
        "\n",
        " **regression problems**, the concepts of **under/over-fitting**, and **regularization**. \n",
        "\n",
        " [diabetes](https://www4.stat.ncsu.edu/~boos/var.select/diabetes.html) dataset."
      ]
    },
    {
      "cell_type": "code",
      "execution_count": 3,
      "metadata": {
        "id": "lkLnfbLLwxxS"
      },
      "outputs": [],
      "source": [
        "import torch\n",
        "from torch import nn\n",
        "from sklearn import model_selection\n",
        "import pandas as pd\n",
        "import matplotlib.pyplot as plt\n",
        "import seaborn as sn\n",
        "from IPython import display\n",
        "\n",
        "import typing\n",
        "%matplotlib inline"
      ]
    },
    {
      "cell_type": "code",
      "execution_count": 4,
      "metadata": {
        "id": "LJJVj3d3b43I"
      },
      "outputs": [],
      "source": [
        "diabetes_db = pd.read_csv('https://www4.stat.ncsu.edu/~boos/var.select/diabetes.tab.txt', sep='\\t', header=0)\n",
        "#sn.pairplot(diabetes_db)"
      ]
    },
    {
      "cell_type": "code",
      "execution_count": 5,
      "metadata": {
        "id": "imFNxOVrf36P"
      },
      "outputs": [
        {
          "data": {
            "text/html": [
              "<div>\n",
              "<style scoped>\n",
              "    .dataframe tbody tr th:only-of-type {\n",
              "        vertical-align: middle;\n",
              "    }\n",
              "\n",
              "    .dataframe tbody tr th {\n",
              "        vertical-align: top;\n",
              "    }\n",
              "\n",
              "    .dataframe thead th {\n",
              "        text-align: right;\n",
              "    }\n",
              "</style>\n",
              "<table border=\"1\" class=\"dataframe\">\n",
              "  <thead>\n",
              "    <tr style=\"text-align: right;\">\n",
              "      <th></th>\n",
              "      <th>AGE</th>\n",
              "      <th>SEX</th>\n",
              "      <th>BMI</th>\n",
              "      <th>BP</th>\n",
              "      <th>S1</th>\n",
              "      <th>S2</th>\n",
              "      <th>S3</th>\n",
              "      <th>S4</th>\n",
              "      <th>S5</th>\n",
              "      <th>S6</th>\n",
              "      <th>Y</th>\n",
              "    </tr>\n",
              "  </thead>\n",
              "  <tbody>\n",
              "    <tr>\n",
              "      <th>0</th>\n",
              "      <td>59</td>\n",
              "      <td>2</td>\n",
              "      <td>32.1</td>\n",
              "      <td>101.0</td>\n",
              "      <td>157</td>\n",
              "      <td>93.2</td>\n",
              "      <td>38.0</td>\n",
              "      <td>4.00</td>\n",
              "      <td>4.8598</td>\n",
              "      <td>87</td>\n",
              "      <td>151</td>\n",
              "    </tr>\n",
              "    <tr>\n",
              "      <th>1</th>\n",
              "      <td>48</td>\n",
              "      <td>1</td>\n",
              "      <td>21.6</td>\n",
              "      <td>87.0</td>\n",
              "      <td>183</td>\n",
              "      <td>103.2</td>\n",
              "      <td>70.0</td>\n",
              "      <td>3.00</td>\n",
              "      <td>3.8918</td>\n",
              "      <td>69</td>\n",
              "      <td>75</td>\n",
              "    </tr>\n",
              "    <tr>\n",
              "      <th>2</th>\n",
              "      <td>72</td>\n",
              "      <td>2</td>\n",
              "      <td>30.5</td>\n",
              "      <td>93.0</td>\n",
              "      <td>156</td>\n",
              "      <td>93.6</td>\n",
              "      <td>41.0</td>\n",
              "      <td>4.00</td>\n",
              "      <td>4.6728</td>\n",
              "      <td>85</td>\n",
              "      <td>141</td>\n",
              "    </tr>\n",
              "    <tr>\n",
              "      <th>3</th>\n",
              "      <td>24</td>\n",
              "      <td>1</td>\n",
              "      <td>25.3</td>\n",
              "      <td>84.0</td>\n",
              "      <td>198</td>\n",
              "      <td>131.4</td>\n",
              "      <td>40.0</td>\n",
              "      <td>5.00</td>\n",
              "      <td>4.8903</td>\n",
              "      <td>89</td>\n",
              "      <td>206</td>\n",
              "    </tr>\n",
              "    <tr>\n",
              "      <th>4</th>\n",
              "      <td>50</td>\n",
              "      <td>1</td>\n",
              "      <td>23.0</td>\n",
              "      <td>101.0</td>\n",
              "      <td>192</td>\n",
              "      <td>125.4</td>\n",
              "      <td>52.0</td>\n",
              "      <td>4.00</td>\n",
              "      <td>4.2905</td>\n",
              "      <td>80</td>\n",
              "      <td>135</td>\n",
              "    </tr>\n",
              "    <tr>\n",
              "      <th>5</th>\n",
              "      <td>23</td>\n",
              "      <td>1</td>\n",
              "      <td>22.6</td>\n",
              "      <td>89.0</td>\n",
              "      <td>139</td>\n",
              "      <td>64.8</td>\n",
              "      <td>61.0</td>\n",
              "      <td>2.00</td>\n",
              "      <td>4.1897</td>\n",
              "      <td>68</td>\n",
              "      <td>97</td>\n",
              "    </tr>\n",
              "    <tr>\n",
              "      <th>6</th>\n",
              "      <td>36</td>\n",
              "      <td>2</td>\n",
              "      <td>22.0</td>\n",
              "      <td>90.0</td>\n",
              "      <td>160</td>\n",
              "      <td>99.6</td>\n",
              "      <td>50.0</td>\n",
              "      <td>3.00</td>\n",
              "      <td>3.9512</td>\n",
              "      <td>82</td>\n",
              "      <td>138</td>\n",
              "    </tr>\n",
              "    <tr>\n",
              "      <th>7</th>\n",
              "      <td>66</td>\n",
              "      <td>2</td>\n",
              "      <td>26.2</td>\n",
              "      <td>114.0</td>\n",
              "      <td>255</td>\n",
              "      <td>185.0</td>\n",
              "      <td>56.0</td>\n",
              "      <td>4.55</td>\n",
              "      <td>4.2485</td>\n",
              "      <td>92</td>\n",
              "      <td>63</td>\n",
              "    </tr>\n",
              "    <tr>\n",
              "      <th>8</th>\n",
              "      <td>60</td>\n",
              "      <td>2</td>\n",
              "      <td>32.1</td>\n",
              "      <td>83.0</td>\n",
              "      <td>179</td>\n",
              "      <td>119.4</td>\n",
              "      <td>42.0</td>\n",
              "      <td>4.00</td>\n",
              "      <td>4.4773</td>\n",
              "      <td>94</td>\n",
              "      <td>110</td>\n",
              "    </tr>\n",
              "    <tr>\n",
              "      <th>9</th>\n",
              "      <td>29</td>\n",
              "      <td>1</td>\n",
              "      <td>30.0</td>\n",
              "      <td>85.0</td>\n",
              "      <td>180</td>\n",
              "      <td>93.4</td>\n",
              "      <td>43.0</td>\n",
              "      <td>4.00</td>\n",
              "      <td>5.3845</td>\n",
              "      <td>88</td>\n",
              "      <td>310</td>\n",
              "    </tr>\n",
              "  </tbody>\n",
              "</table>\n",
              "</div>"
            ],
            "text/plain": [
              "   AGE  SEX   BMI     BP   S1     S2    S3    S4      S5  S6    Y\n",
              "0   59    2  32.1  101.0  157   93.2  38.0  4.00  4.8598  87  151\n",
              "1   48    1  21.6   87.0  183  103.2  70.0  3.00  3.8918  69   75\n",
              "2   72    2  30.5   93.0  156   93.6  41.0  4.00  4.6728  85  141\n",
              "3   24    1  25.3   84.0  198  131.4  40.0  5.00  4.8903  89  206\n",
              "4   50    1  23.0  101.0  192  125.4  52.0  4.00  4.2905  80  135\n",
              "5   23    1  22.6   89.0  139   64.8  61.0  2.00  4.1897  68   97\n",
              "6   36    2  22.0   90.0  160   99.6  50.0  3.00  3.9512  82  138\n",
              "7   66    2  26.2  114.0  255  185.0  56.0  4.55  4.2485  92   63\n",
              "8   60    2  32.1   83.0  179  119.4  42.0  4.00  4.4773  94  110\n",
              "9   29    1  30.0   85.0  180   93.4  43.0  4.00  5.3845  88  310"
            ]
          },
          "execution_count": 5,
          "metadata": {},
          "output_type": "execute_result"
        }
      ],
      "source": [
        "diabetes_db.head(10)"
      ]
    },
    {
      "cell_type": "markdown",
      "metadata": {
        "id": "LGjbgZxNdrLH"
      },
      "source": [
        "We first split the data into test and training sets. For consistency and to allow for meaningful comparison the same splits are maintained in the remainder of the lab."
      ]
    },
    {
      "cell_type": "code",
      "execution_count": 6,
      "metadata": {
        "id": "Lad3ihXjd-Ev"
      },
      "outputs": [
        {
          "name": "stdout",
          "output_type": "stream",
          "text": [
            "tensor([[68.0000,  2.0000, 27.5000,  ...,  5.0000,  4.9416, 91.0000],\n",
            "        [46.0000,  2.0000, 24.7000,  ...,  6.0000,  4.6444, 96.0000],\n",
            "        [50.0000,  1.0000, 31.0000,  ...,  4.0000,  4.8283, 88.0000],\n",
            "        ...,\n",
            "        [57.0000,  1.0000, 24.5000,  ...,  3.0000,  4.5218, 91.0000],\n",
            "        [45.0000,  1.0000, 24.2000,  ...,  4.0000,  4.2195, 82.0000],\n",
            "        [23.0000,  1.0000, 29.0000,  ...,  3.0000,  4.5850, 91.0000]])\n"
          ]
        }
      ],
      "source": [
        "X_train, X_test, y_train, y_test = model_selection.train_test_split(\n",
        "    diabetes_db.loc[:, diabetes_db.columns != 'Y'],\n",
        "    diabetes_db['Y'],\n",
        "    test_size=0.2,\n",
        "    random_state=42\n",
        "    )\n",
        "x_train = torch.from_numpy(X_train.values).float()\n",
        "x_test = torch.from_numpy(X_test.values).float()\n",
        "\n",
        "y_train = torch.from_numpy(y_train.values).float()\n",
        "y_train = y_train.reshape(-1, 1)\n",
        "\n",
        "y_test = torch.from_numpy(y_test.values).float()\n",
        "y_test = y_test.reshape(-1, 1)\n",
        "\n",
        "print(x_train)"
      ]
    },
    {
      "cell_type": "markdown",
      "metadata": {
        "id": "hLLITe4POndx"
      },
      "source": [
        "We can see that all the independent variables are on different scales. This can affect gradient descent, we therefore need to normalize all features to zero mean, and unit standard deviation. The normalized value $z_i$ of $x_i$ is obtained through $z_i = \\frac{x_i - μ}{σ}$ where $μ$ is the mean and $σ$ is the standard deviation of $X$ and $x_i, μ, σ ∈ \\mathbb{R}^D$.\n",
        "\n",
        "**Q1.** Complete the method and normalize `x_train, x_test` [2 marks]"
      ]
    },
    {
      "cell_type": "code",
      "execution_count": 7,
      "metadata": {
        "id": "z3E-8C1USNFP"
      },
      "outputs": [],
      "source": [
        "def norm_set(x: torch.Tensor, mu: torch.Tensor, sigma: torch.Tensor) -> torch.tensor:\n",
        "  x = (x-mu)/sigma\n",
        "  return x\n",
        "mu_train = torch.mean(x_train, dim = 0)\n",
        "mu_test = torch.mean(x_train, dim = 0)\n",
        "\n",
        "sigma_train = torch.std(x_train, dim = 0)\n",
        "sigma_test = torch.std(x_train, dim = 0)\n",
        "x_train = norm_set(x_train, mu_train, sigma_train)\n",
        "x_test = norm_set(x_test, mu_test, sigma_test)\n",
        "\n",
        "\n"
      ]
    },
    {
      "cell_type": "code",
      "execution_count": 8,
      "metadata": {},
      "outputs": [
        {
          "name": "stdout",
          "output_type": "stream",
          "text": [
            "tensor([12.7553,  0.4998,  4.3862, 14.0781, 34.7292, 30.4208, 12.7779,  1.2951,\n",
            "         0.5247, 11.6801])\n",
            "tensor([ 48.9150,   1.4703,  26.5368,  94.9896, 188.7365, 114.9244,  49.5198,\n",
            "          4.0805,   4.6548,  91.7167])\n",
            "tensor([1.0000, 1.0000, 1.0000, 1.0000, 1.0000, 1.0000, 1.0000, 1.0000, 1.0000,\n",
            "        1.0000])\n"
          ]
        }
      ],
      "source": [
        "print(sigma_train) #+ sigma_test + x_train + x_test)\n",
        "print(mu_train)\n",
        "print(x_train.std(dim=0))"
      ]
    },
    {
      "cell_type": "markdown",
      "metadata": {
        "id": "d_qQkwRGFBF8"
      },
      "source": [
        "## 1.1 Linear Regression\n",
        "\n",
        "We will building the linear regression model in pytorch using a custom layer. \n",
        "\n",
        "Refering back to the lecture notes, we define $ y = f(x) = w^T x$, so we need to learn weight vector $w$.\n",
        "\n",
        "**Q2.** Fill in the forward method of the LinearRegression class. [2 marks]"
      ]
    },
    {
      "cell_type": "code",
      "execution_count": 9,
      "metadata": {
        "id": "mxp1LoliF3Qc"
      },
      "outputs": [],
      "source": [
        "\n",
        "class LinearRegression(nn.Module):\n",
        "  def __init__(self, num_features):\n",
        "    super().__init__()\n",
        "    self.weight = nn.Parameter(torch.zeros(1, num_features), requires_grad=False)\n",
        "    #self.bias = nn.Parameter(torch.zeros(1), requires_grad=False)\n",
        "  \n",
        "  def forward(self, x):\n",
        "    \n",
        "    #y = x @ self.weight.t()\n",
        "    y = torch.matmul(x, self.weight.T) \n",
        "    #y = torch.matmul(self.weight.t(), x)\n",
        "    \n",
        "    return y\n"
      ]
    },
    {
      "cell_type": "markdown",
      "metadata": {
        "id": "Rr7MDAIWboLi"
      },
      "source": [
        "As we need to account for the bias, we add a column of ones to the `x_data`"
      ]
    },
    {
      "cell_type": "code",
      "execution_count": 10,
      "metadata": {
        "id": "rCn-E-CZbxOL"
      },
      "outputs": [],
      "source": [
        "# add a feature for bias\n",
        "x_train = torch.cat([x_train, torch.ones(x_train.shape[0], 1)], dim=1)\n",
        "x_test = torch.cat([x_test, torch.ones(x_test.shape[0], 1)], dim=1)"
      ]
    },
    {
      "cell_type": "code",
      "execution_count": 11,
      "metadata": {
        "id": "Tfeh3o4Gk_xW"
      },
      "outputs": [
        {
          "data": {
            "text/plain": [
              "torch.Size([353, 1])"
            ]
          },
          "execution_count": 11,
          "metadata": {},
          "output_type": "execute_result"
        }
      ],
      "source": [
        "## test the custom layer\n",
        "model = LinearRegression(x_train.shape[1])\n",
        "prediction = model(x_train)\n",
        "prediction.shape # the output should be Nx1"
      ]
    },
    {
      "cell_type": "markdown",
      "metadata": {
        "id": "H-kUQVD9ne_i"
      },
      "source": [
        "The next step is to calculate the cost. For this we will use the mean squared error $E(w) = \\frac{1}{N} Σ_{i=0}^N (f(x_i) - y_i)^2$\n",
        "\n",
        "**Q3.** Fill in the method to calculate the squared error of for any set of labels $y$ and predictions [2 marks]"
      ]
    },
    {
      "cell_type": "code",
      "execution_count": 12,
      "metadata": {
        "id": "25SVCd01l29-"
      },
      "outputs": [],
      "source": [
        "\n",
        "def mean_squared_error(y_pred: torch.Tensor, y_true: torch.Tensor) -> torch.Tensor:\n",
        "  #loss = nn.MSELoss()\n",
        "  #output= loss(y_true,y_pred)\n",
        "  \n",
        "  difference = y_true - y_pred\n",
        "  return torch.sum(difference * difference)/ difference.numel()"
      ]
    },
    {
      "cell_type": "code",
      "execution_count": 13,
      "metadata": {
        "id": "yTuAgK6FpLEh"
      },
      "outputs": [
        {
          "name": "stdout",
          "output_type": "stream",
          "text": [
            "tensor(29711.3223)\n"
          ]
        }
      ],
      "source": [
        "cost = mean_squared_error(y_train, prediction)\n",
        "print(cost)"
      ]
    },
    {
      "cell_type": "code",
      "execution_count": 14,
      "metadata": {
        "id": "TJXOTQInsIFz"
      },
      "outputs": [],
      "source": [
        "\n",
        "\n",
        "\n",
        "def gradient_descent_step(model: nn.Module, X: torch.Tensor, y: torch.Tensor, y_pred: torch.Tensor, lr: float) -> None:\n",
        "  weight = model.weight\n",
        "  #bias = model.bias\n",
        "  N = X.shape[0]\n",
        "  # calculate the partial derivative of the loss funct\"ion with respect to w_0 and w_1\n",
        "  weight_d = torch.zeros(weight.shape[0], weight.shape[1])\n",
        "  weight_d = (-2) * sum(torch.mul(X,(y-y_pred)))/N\n",
        "  weight -= weight_d*lr\n",
        "  #bias -=  Dw1 * lr\n",
        "  # calculate the new values for bias and weight\n",
        "  ### NEED TO VECTORIZE THE WEIGHTS AND THEN TRY Weight = Vector of the weights [11,1] oe [1,11]\n",
        "  model.weight = nn.Parameter(weight, requires_grad=False)\n",
        "  #model.bias = nn.Parameter(bias, requires_grad=False) \n",
        "\n",
        "  \n",
        "  "
      ]
    },
    {
      "cell_type": "code",
      "execution_count": 15,
      "metadata": {
        "id": "4lQDX_zeG6W1"
      },
      "outputs": [
        {
          "data": {
            "image/png": "[encoded data removed]",
            "text/plain": [
              "<Figure size 432x288 with 2 Axes>"
            ]
          },
          "metadata": {
            "needs_background": "light"
          },
          "output_type": "display_data"
        },
        {
          "name": "stdout",
          "output_type": "stream",
          "text": [
            "Parameter containing:\n",
            "tensor([[  1.9400, -11.4488,  26.3047,  16.6306,  -9.8810,  -2.3179,  -7.6995,\n",
            "           8.2121,  21.9769,   2.6065, 153.7365]])\n",
            "Minimum cost: 2890.406494140625\n"
          ]
        }
      ],
      "source": [
        "cost_lst = list()\n",
        "model = LinearRegression(x_train.shape[1])\n",
        "alpha = .1\n",
        "for it in range(100):\n",
        "  prediction = model(x_train)\n",
        "  cost = mean_squared_error(y_train, prediction)\n",
        "  cost_lst.append(cost)\n",
        "  gradient_descent_step(model, x_train, y_train, prediction, alpha)\n",
        "fig, axs = plt.subplots(2)\n",
        "axs[0].plot(list(range(it+1)), cost_lst)\n",
        "axs[1].scatter(prediction, y_train)\n",
        "plt.show()\n",
        "print(model.weight)\n",
        "print('Minimum cost: {}'.format(min(cost_lst)))"
      ]
    },
    {
      "cell_type": "code",
      "execution_count": 16,
      "metadata": {},
      "outputs": [
        {
          "data": {
            "image/png": "[encoded data removed]",
            "text/plain": [
              "<Figure size 432x288 with 2 Axes>"
            ]
          },
          "metadata": {
            "needs_background": "light"
          },
          "output_type": "display_data"
        },
        {
          "name": "stdout",
          "output_type": "stream",
          "text": [
            "Parameter containing:\n",
            "tensor([[ -6.3173, -12.3420,  20.5094,  11.0672,   4.4981,  -2.6394, -12.8705,\n",
            "          -5.3701,  32.5305,   7.8895, 156.3743]])\n",
            "Minimum cost: 2568.32763671875\n"
          ]
        }
      ],
      "source": [
        "cost_lst = list()\n",
        "model = LinearRegression(x_test.shape[1])\n",
        "alpha = .1\n",
        "for it in range(100):\n",
        "  prediction = model(x_test)\n",
        "  cost = mean_squared_error(y_test, prediction)\n",
        "  cost_lst.append(cost)\n",
        "  gradient_descent_step(model, x_test, y_test, prediction, alpha)\n",
        "fig, axs = plt.subplots(2)\n",
        "axs[0].plot(list(range(it+1)), cost_lst)\n",
        "axs[1].scatter(prediction, y_test)\n",
        "plt.show()\n",
        "print(model.weight)\n",
        "print('Minimum cost: {}'.format(min(cost_lst)))"
      ]
    },
    {
      "cell_type": "code",
      "execution_count": 17,
      "metadata": {
        "id": "StYxCUdPWSEp"
      },
      "outputs": [
        {
          "name": "stdout",
          "output_type": "stream",
          "text": [
            "tensor([[-0.7071,  0.7071, -0.7071, -0.7071, -0.7071, -0.7071,  0.7071, -0.7071,\n",
            "         -0.7071, -0.7071,  1.0000],\n",
            "        [ 0.7071, -0.7071,  0.7071,  0.7071,  0.7071,  0.7071, -0.7071,  0.7071,\n",
            "          0.7071,  0.7071,  1.0000]])\n",
            "tensor([[ 94.5869],\n",
            "        [218.1616]])\n"
          ]
        }
      ],
      "source": [
        "#Find the estimation of the two rows by standardizing the data (z = x-mu/sigma)\n",
        "x_example = [\n",
        "    [25,2,18,79,130,64.8,61,2,4.1897,68],\n",
        "    [50,1,28,103,229,162.2,60,4.5,6.107,124]\n",
        "    ]\n",
        "x_example_set = torch.tensor(x_example)\n",
        "x_set_m = torch.mean(x_example_set, dim=0)\n",
        "x_e_s = torch.std(x_example_set, dim=0)\n",
        "x_set = norm_set(x_example_set, x_set_m, x_e_s)\n",
        "x_set = torch.cat([x_set, torch.ones(x_set.shape[0], 1)], dim=1)\n",
        "print(x_set)\n",
        "y = model(x_set)\n",
        "print(y)\n"
      ]
    },
    {
      "cell_type": "code",
      "execution_count": 18,
      "metadata": {
        "id": "_yuYH06A-xoj"
      },
      "outputs": [
        {
          "name": "stdout",
          "output_type": "stream",
          "text": [
            "tensor(2568.2971)\n"
          ]
        }
      ],
      "source": [
        "### your code here\n",
        "prediction_test = model(x_test)\n",
        "cost_test = mean_squared_error(y_test, prediction_test)\n",
        "print(cost_test)"
      ]
    },
    {
      "cell_type": "code",
      "execution_count": 19,
      "metadata": {
        "id": "Sp9nNM0R-7CH"
      },
      "outputs": [
        {
          "name": "stdout",
          "output_type": "stream",
          "text": [
            "Error on training set with alpha 1000 is : 29711.322265625\n",
            "Error on test set with alpha 1000 is nan\n",
            "\n",
            "Error on training set with alpha 100 is : 29711.322265625\n",
            "Error on test set with alpha 100 is nan\n",
            "\n",
            "Error on training set with alpha 10 is : 29711.322265625\n",
            "Error on test set with alpha 10 is nan\n",
            "\n",
            "Error on training set with alpha 1 is : 29711.322265625\n",
            "Error on test set with alpha 1 is nan\n",
            "\n",
            "Error on training set with alpha 0.1 is : 2890.406494140625\n",
            "Error on test set with alpha 0.1 is 2885.619140625\n",
            "\n",
            "Error on training set with alpha 0.01 is : 3356.77685546875\n",
            "Error on test set with alpha 0.01 is 3431.068359375\n",
            "\n",
            "Error on training set with alpha 0.001 is : 20040.583984375\n",
            "Error on test set with alpha 0.001 is 18534.30859375\n",
            "\n"
          ]
        },
        {
          "data": {
            "image/png": "[encoded data removed]",
            "text/plain": [
              "<Figure size 360x1080 with 7 Axes>"
            ]
          },
          "metadata": {
            "needs_background": "light"
          },
          "output_type": "display_data"
        }
      ],
      "source": [
        "alpha_values = [1000, 100, 10, 1, 0.1, 0.01, 0.001]\n",
        "fig, axs = plt.subplots(7, 1, figsize=(5,15))\n",
        "plt.subplots_adjust(bottom=0.1,top=0.9,wspace=0.4,hspace=0.4)\n",
        "i = 0\n",
        "for alpha in alpha_values:\n",
        "    cost_lst = list()\n",
        "    model = LinearRegression(x_train.shape[1])\n",
        "    \n",
        "    for it in range(100):\n",
        "        prediction = model(x_train)\n",
        "        cost = mean_squared_error(y_train, prediction)\n",
        "        cost_lst.append(cost)\n",
        "        gradient_descent_step(model, x_train, y_train, prediction, alpha)\n",
        "    print('Error on training set with alpha {} is : {}'.format(alpha, min(cost_lst)))\n",
        "    prediction_test = model(x_test)\n",
        "    test_set_error = mean_squared_error(y_test, prediction_test)\n",
        "    print('Error on test set with alpha {} is {}\\n'.format(alpha, test_set_error))\n",
        "    axs[i].plot(list(range(it+1)), cost_lst)\n",
        "    axs[i].set_title('alpha = {}'.format(alpha))\n",
        "    i = i + 1"
      ]
    },
    {
      "cell_type": "code",
      "execution_count": 20,
      "metadata": {},
      "outputs": [
        {
          "name": "stdout",
          "output_type": "stream",
          "text": [
            "Error on training set with alpha 2000 is : 29711.322265625\n",
            "Error on test set with alpha 2000 is nan\n",
            "\n",
            "Error on training set with alpha 200 is : 29711.322265625\n",
            "Error on test set with alpha 200 is nan\n",
            "\n",
            "Error on training set with alpha 20 is : 29711.322265625\n",
            "Error on test set with alpha 20 is nan\n",
            "\n",
            "Error on training set with alpha 2 is : 29711.322265625\n",
            "Error on test set with alpha 2 is nan\n",
            "\n",
            "Error on training set with alpha 0.2 is : 2883.7109375\n",
            "Error on test set with alpha 0.2 is 2886.526123046875\n",
            "\n",
            "Error on training set with alpha 0.02 is : 2906.43505859375\n",
            "Error on test set with alpha 0.02 is 2906.97900390625\n",
            "\n",
            "Error on training set with alpha 0.002 is : 14224.037109375\n",
            "Error on test set with alpha 0.002 is 13523.140625\n",
            "\n"
          ]
        },
        {
          "data": {
            "image/png": "[encoded data removed]",
            "text/plain": [
              "<Figure size 360x1080 with 7 Axes>"
            ]
          },
          "metadata": {
            "needs_background": "light"
          },
          "output_type": "display_data"
        }
      ],
      "source": [
        "alpha_values = [2000, 200, 20, 2, 0.2, 0.02, 0.002]\n",
        "fig, axs = plt.subplots(7, 1, figsize=(5,15))\n",
        "#plt.subplots_adjust(left=0.1,bottom=0.1,right=0.9,top=0.9,wspace=0.4,hspace=0.4)\n",
        "plt.subplots_adjust(bottom=0.1,top=0.9,wspace=0.4,hspace=0.4)\n",
        "i = 0\n",
        "for alpha in alpha_values:\n",
        "    cost_lst = list()\n",
        "    model = LinearRegression(x_train.shape[1])\n",
        "    \n",
        "    for it in range(100):\n",
        "        prediction = model(x_train)\n",
        "        cost = mean_squared_error(y_train, prediction)\n",
        "        cost_lst.append(cost)\n",
        "        gradient_descent_step(model, x_train, y_train, prediction, alpha)\n",
        "    print('Error on training set with alpha {} is : {}'.format(alpha, min(cost_lst)))\n",
        "    prediction_test = model(x_test)\n",
        "    test_set_error = mean_squared_error(y_test, prediction_test)\n",
        "    print('Error on test set with alpha {} is {}\\n'.format(alpha, test_set_error))\n",
        "    axs[i].plot(list(range(it+1)), cost_lst)\n",
        "    axs[i].set_title('alpha = {}'.format(alpha))\n",
        "    i = i + 1"
      ]
    },
    {
      "cell_type": "code",
      "execution_count": 21,
      "metadata": {
        "id": "hupAUhrofKfy"
      },
      "outputs": [
        {
          "name": "stdout",
          "output_type": "stream",
          "text": [
            "torch.Size([7, 1])\n",
            "torch.Size([7, 1])\n"
          ]
        },
        {
          "data": {
            "image/png": "[encoded data removed]",
            "text/plain": [
              "<Figure size 432x288 with 1 Axes>"
            ]
          },
          "metadata": {
            "needs_background": "light"
          },
          "output_type": "display_data"
        }
      ],
      "source": [
        "x = torch.tensor([-0.99768, -0.69574, -0.40373, -0.10236, 0.22024, 0.47742, 0.82229]).reshape(-1, 1)\n",
        "print(x.shape)\n",
        "y = torch.tensor([2.0885, 1.1646, 0.3287, 0.46013, 0.44808, 0.10013, -0.32952]).reshape(-1, 1)\n",
        "print(y.shape)\n",
        "plt.scatter(x, y)\n",
        "plt.show()"
      ]
    },
    {
      "cell_type": "code",
      "execution_count": 22,
      "metadata": {
        "id": "4nOF1xJKY_Jx"
      },
      "outputs": [
        {
          "name": "stdout",
          "output_type": "stream",
          "text": [
            "torch.Size([7, 6])\n"
          ]
        }
      ],
      "source": [
        "### remember to add x_0 for the bias\n",
        "\n",
        "class LinearRegression(nn.Module):\n",
        "  def __init__(self, num_features):\n",
        "    super().__init__()\n",
        "    self.weight = nn.Parameter(torch.zeros(1, num_features), requires_grad=False)\n",
        "  \n",
        "  def forward(self, x):\n",
        "    y = torch.matmul(x, self.weight.T)\n",
        "    return y\n",
        "\n",
        "x3 = torch.cat([x ** i for i in range(0, 6)], 1)\n",
        "print(x3.shape)"
      ]
    },
    {
      "cell_type": "code",
      "execution_count": 23,
      "metadata": {
        "id": "c-h9vdC5hSPO"
      },
      "outputs": [],
      "source": [
        "def mean_squared_error(y_true: torch.Tensor, y_pred: torch.Tensor, lam: float, theta: torch.tensor) -> torch.Tensor:\n",
        "    m = y_pred.shape[0] \n",
        "    cost = (torch.sum(torch.square(y_pred-y_true)) + lam*torch.sum(torch.square(theta)))/(2*m)\n",
        "    return cost\n",
        "\n",
        "  \n",
        "\n",
        "def gradient_descent_step(model: nn.Module, X: torch.Tensor, y: torch.Tensor, y_pred: torch.Tensor, lr: float, lam: float) -> None:\n",
        "  weight = model.weight\n",
        "  m = y_pred.shape[0]\n",
        "\n",
        "  initial_Weight = weight[0,0] - lr/m*(torch.sum(torch.mul((y_pred-y), X)))\n",
        "  weight = weight*(1-lr*lam/m) - lr/m*(sum(torch.mul((y_pred-y), X)))\n",
        "  weight[0,0] = initial_Weight\n",
        "\n",
        "  model.weight = nn.Parameter(weight, requires_grad=False)"
      ]
    },
    {
      "cell_type": "code",
      "execution_count": 24,
      "metadata": {},
      "outputs": [
        {
          "data": {
            "text/plain": [
              "tensor([[ 1.0000e+00, -9.9768e-01,  9.9537e-01, -9.9306e-01,  9.9075e-01,\n",
              "         -9.8845e-01],\n",
              "        [ 1.0000e+00, -6.9574e-01,  4.8405e-01, -3.3678e-01,  2.3431e-01,\n",
              "         -1.6302e-01],\n",
              "        [ 1.0000e+00, -4.0373e-01,  1.6300e-01, -6.5807e-02,  2.6568e-02,\n",
              "         -1.0726e-02],\n",
              "        [ 1.0000e+00, -1.0236e-01,  1.0478e-02, -1.0725e-03,  1.0978e-04,\n",
              "         -1.1237e-05],\n",
              "        [ 1.0000e+00,  2.2024e-01,  4.8506e-02,  1.0683e-02,  2.3528e-03,\n",
              "          5.1818e-04],\n",
              "        [ 1.0000e+00,  4.7742e-01,  2.2793e-01,  1.0882e-01,  5.1952e-02,\n",
              "          2.4803e-02],\n",
              "        [ 1.0000e+00,  8.2229e-01,  6.7616e-01,  5.5600e-01,  4.5719e-01,\n",
              "          3.7595e-01]])"
            ]
          },
          "execution_count": 24,
          "metadata": {},
          "output_type": "execute_result"
        }
      ],
      "source": [
        "x3  "
      ]
    },
    {
      "cell_type": "code",
      "execution_count": 31,
      "metadata": {
        "id": "9hFP4DHzZDkB"
      },
      "outputs": [
        {
          "data": {
            "image/png": "[encoded data removed]",
            "text/plain": [
              "<Figure size 432x288 with 1 Axes>"
            ]
          },
          "metadata": {
            "needs_background": "light"
          },
          "output_type": "display_data"
        },
        {
          "name": "stdout",
          "output_type": "stream",
          "text": [
            "Parameter containing:\n",
            "tensor([[ 0.3761, -0.2380,  0.1442, -0.9423,  0.0837, -0.3480]])\n",
            "Minimum cost: 0.007786668371409178\n"
          ]
        }
      ],
      "source": [
        "cost_lst = list()\n",
        "print(x3.shape[1])\n",
        "model = LinearRegression(x3.shape[1])\n",
        "alpha = .2 # select an appropriate alpha\n",
        "lam = 0 # select an appropriate lambda\n",
        "for it in range(1000):\n",
        "  prediction = model(x3)\n",
        "  #print(prediction.shape)\n",
        "  cost = mean_squared_error(y, prediction, lam, model.weight)\n",
        "  cost_lst.append(cost)\n",
        "  gradient_descent_step(model, x3, y, prediction, alpha, lam)\n",
        "display.clear_output(wait=True)\n",
        "plt.plot(list(range(it+1)), cost_lst)\n",
        "plt.show()\n",
        "print(model.weight)\n",
        "print('Minimum cost: {}'.format(min(cost_lst)))"
      ]
    },
    {
      "cell_type": "code",
      "execution_count": 26,
      "metadata": {
        "id": "xys3bBGpk8wp"
      },
      "outputs": [
        {
          "data": {
            "image/png": "[encoded data removed]",
            "text/plain": [
              "<Figure size 432x288 with 1 Axes>"
            ]
          },
          "metadata": {
            "needs_background": "light"
          },
          "output_type": "display_data"
        }
      ],
      "source": [
        "plt.scatter(x3[:, 1], y, c='red', marker='x', label='groundtruth')\n",
        "outputs = model(x3)\n",
        "plt.plot(x3[:, 1], outputs, c='blue', marker='o', label='prediction')\n",
        "plt.xlabel('x1')\n",
        "plt.ylabel('y=f(x1)')\n",
        "plt.legend()\n",
        "plt.show()"
      ]
    },
    {
      "cell_type": "code",
      "execution_count": 27,
      "metadata": {},
      "outputs": [
        {
          "data": {
            "image/png": "[encoded data removed]",
            "text/plain": [
              "<Figure size 432x288 with 1 Axes>"
            ]
          },
          "metadata": {
            "needs_background": "light"
          },
          "output_type": "display_data"
        },
        {
          "name": "stdout",
          "output_type": "stream",
          "text": [
            "Parameter containing:\n",
            "tensor([[ 0.2456, -0.4201,  0.2529, -0.3931,  0.2208, -0.3321]])\n",
            "Minimum cost: 0.064546599984169\n"
          ]
        }
      ],
      "source": [
        "cost_lst = list()\n",
        "print(x3.shape[1])\n",
        "model = LinearRegression(x3.shape[1])\n",
        "alpha = 0.2 # select an appropriate alpha\n",
        "lam = 1 # select an appropriate lambda\n",
        "for it in range(1000):\n",
        "  prediction = model(x3)\n",
        "  #print(prediction.shape)\n",
        "  cost = mean_squared_error(y, prediction, lam, model.weight)\n",
        "  cost_lst.append(cost)\n",
        "  gradient_descent_step(model, x3, y, prediction, alpha, lam)\n",
        "display.clear_output(wait=True)\n",
        "plt.plot(list(range(it+1)), cost_lst)\n",
        "plt.show()\n",
        "print(model.weight)\n",
        "print('Minimum cost: {}'.format(min(cost_lst)))"
      ]
    },
    {
      "cell_type": "code",
      "execution_count": 28,
      "metadata": {},
      "outputs": [
        {
          "data": {
            "image/png": "[encoded data removed]",
            "text/plain": [
              "<Figure size 432x288 with 1 Axes>"
            ]
          },
          "metadata": {
            "needs_background": "light"
          },
          "output_type": "display_data"
        }
      ],
      "source": [
        "plt.scatter(x3[:, 1], y, c='red', marker='x', label='groundtruth')\n",
        "outputs = model(x3)\n",
        "plt.plot(x3[:, 1], outputs, c='blue', marker='o', label='prediction')\n",
        "plt.xlabel('x1')\n",
        "plt.ylabel('y=f(x1)')\n",
        "plt.legend()\n",
        "plt.show()"
      ]
    },
    {
      "cell_type": "code",
      "execution_count": 29,
      "metadata": {},
      "outputs": [
        {
          "data": {
            "image/png": "[encoded data removed]",
            "text/plain": [
              "<Figure size 432x288 with 1 Axes>"
            ]
          },
          "metadata": {
            "needs_background": "light"
          },
          "output_type": "display_data"
        },
        {
          "name": "stdout",
          "output_type": "stream",
          "text": [
            "Parameter containing:\n",
            "tensor([[ 0.2801, -0.4326,  0.2380, -0.4560,  0.2073, -0.3726]])\n",
            "Minimum cost: 0.03928555175662041\n"
          ]
        }
      ],
      "source": [
        "cost_lst = list()\n",
        "print(x3.shape[1])\n",
        "model = LinearRegression(x3.shape[1])\n",
        "alpha = 0.2 # select an appropriate alpha\n",
        "lam = 0.5 # select an appropriate lambda\n",
        "for it in range(1000):\n",
        "  prediction = model(x3)\n",
        "  #print(prediction.shape)\n",
        "  cost = mean_squared_error(y, prediction, lam, model.weight)\n",
        "  cost_lst.append(cost)\n",
        "  gradient_descent_step(model, x3, y, prediction, alpha, lam)\n",
        "display.clear_output(wait=True)\n",
        "plt.plot(list(range(it+1)), cost_lst)\n",
        "plt.show()\n",
        "print(model.weight)\n",
        "print('Minimum cost: {}'.format(min(cost_lst)))"
      ]
    },
    {
      "cell_type": "code",
      "execution_count": 30,
      "metadata": {},
      "outputs": [
        {
          "data": {
            "image/png": "[encoded data removed]",
            "text/plain": [
              "<Figure size 432x288 with 1 Axes>"
            ]
          },
          "metadata": {
            "needs_background": "light"
          },
          "output_type": "display_data"
        }
      ],
      "source": [
        "plt.scatter(x3[:, 1], y, c='red', marker='x', label='groundtruth')\n",
        "outputs = model(x3)\n",
        "plt.plot(x3[:, 1], outputs, c='blue', marker='o', label='prediction')\n",
        "plt.xlabel('x1')\n",
        "plt.ylabel('y=f(x1)')\n",
        "plt.legend()\n",
        "plt.show()"
      ]
    }
  ],
  "metadata": {
    "colab": {
      "collapsed_sections": [],
      "provenance": [],
      "toc_visible": true
    },
    "kernelspec": {
      "display_name": "Python 3",
      "language": "python",
      "name": "python3"
    },
    "language_info": {
      "codemirror_mode": {
        "name": "ipython",
        "version": 3
      },
      "file_extension": ".py",
      "mimetype": "text/x-python",
      "name": "python",
      "nbconvert_exporter": "python",
      "pygments_lexer": "ipython3",
      "version": "3.11.2"
    },
    "vscode": {
      "interpreter": {
        "hash": "9106c1d833e1effcf2b5de546f815a5d6486f19ef7e04732d02beaf2c0e5bb53"
      }
    }
  },
  "nbformat": 4,
  "nbformat_minor": 0
}
